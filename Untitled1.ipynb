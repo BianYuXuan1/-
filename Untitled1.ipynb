{
 "cells": [
  {
   "cell_type": "code",
   "execution_count": 1,
   "id": "e6306566-ea1b-40b8-8a16-3574f13dfb44",
   "metadata": {},
   "outputs": [
    {
     "ename": "NameError",
     "evalue": "name 'os' is not defined",
     "output_type": "error",
     "traceback": [
      "\u001b[0;31m---------------------------------------------------------------------------\u001b[0m",
      "\u001b[0;31mNameError\u001b[0m                                 Traceback (most recent call last)",
      "\u001b[0;32m/tmp/ipykernel_75124/4230598516.py\u001b[0m in \u001b[0;36m<module>\u001b[0;34m\u001b[0m\n\u001b[1;32m      2\u001b[0m \u001b[0;32mimport\u001b[0m \u001b[0mjson\u001b[0m\u001b[0;34m\u001b[0m\u001b[0;34m\u001b[0m\u001b[0m\n\u001b[1;32m      3\u001b[0m \u001b[0mimg_root\u001b[0m \u001b[0;34m=\u001b[0m \u001b[0;34m'/root/autodl-tmp/data_total/'\u001b[0m\u001b[0;34m\u001b[0m\u001b[0;34m\u001b[0m\u001b[0m\n\u001b[0;32m----> 4\u001b[0;31m \u001b[0mimgs\u001b[0m \u001b[0;34m=\u001b[0m \u001b[0mos\u001b[0m\u001b[0;34m.\u001b[0m\u001b[0mlistdir\u001b[0m\u001b[0;34m(\u001b[0m\u001b[0mimg_root\u001b[0m\u001b[0;34m)\u001b[0m\u001b[0;34m\u001b[0m\u001b[0;34m\u001b[0m\u001b[0m\n\u001b[0m\u001b[1;32m      5\u001b[0m \u001b[0mrandom\u001b[0m\u001b[0;34m.\u001b[0m\u001b[0mshuffle\u001b[0m\u001b[0;34m(\u001b[0m\u001b[0mimgs\u001b[0m\u001b[0;34m)\u001b[0m\u001b[0;34m\u001b[0m\u001b[0;34m\u001b[0m\u001b[0m\n\u001b[1;32m      6\u001b[0m \u001b[0mall_len\u001b[0m \u001b[0;34m=\u001b[0m \u001b[0mlen\u001b[0m\u001b[0;34m(\u001b[0m\u001b[0mimgs\u001b[0m\u001b[0;34m)\u001b[0m\u001b[0;34m\u001b[0m\u001b[0;34m\u001b[0m\u001b[0m\n",
      "\u001b[0;31mNameError\u001b[0m: name 'os' is not defined"
     ]
    }
   ],
   "source": [
    "import random\n",
    "import json\n",
    "img_root = '/root/autodl-tmp/data_total/'\n",
    "imgs = os.listdir(img_root)\n",
    "random.shuffle(imgs)\n",
    "all_len = len(imgs)\n",
    "train_len = all_len*6//10\n",
    "val_len = all_len*8//10\n",
    "train_list = imgs[:train_len]\n",
    "val_list = imgs[train_len:val_len]\n",
    "test_list = imgs[:]\n",
    "all_img_dict = {'train':train_list,'val':val_list, 'test':test_list}\n",
    "with open('/root/2022_bishe/data/heartTU_annotation.json','w') as j:\n",
    "    json.dump(all_img_dict, j)"
   ]
  },
  {
   "cell_type": "code",
   "execution_count": 5,
   "id": "2deb9583-a725-4d26-a769-dac5c8f4d3b0",
   "metadata": {},
   "outputs": [],
   "source": [
    "import os\n",
    "import shutil\n",
    "import random\n",
    "import json\n",
    "img_root = '/root/autodl-tmp/data_total/'\n",
    "imgs = os.listdir(img_root)\n",
    "random.shuffle(imgs)\n",
    "all_len = len(imgs)\n",
    "train_len = all_len*6//10\n",
    "val_len = all_len*8//10\n",
    "train_list = imgs[:train_len]\n",
    "val_list = imgs[train_len:val_len]\n",
    "test_list = imgs[:]\n",
    "all_img_dict = {'train':train_list,'val':val_list, 'test':test_list}\n",
    "with open('/root/2022_bishe/data/heartTU_annotation.json','w') as j:\n",
    "    json.dump(all_img_dict, j)"
   ]
  },
  {
   "cell_type": "code",
   "execution_count": null,
   "id": "36d94940-6dc8-45db-ab9c-48bd1d2e6936",
   "metadata": {},
   "outputs": [],
   "source": []
  }
 ],
 "metadata": {
  "kernelspec": {
   "display_name": "Python 3 (ipykernel)",
   "language": "python",
   "name": "python3"
  },
  "language_info": {
   "codemirror_mode": {
    "name": "ipython",
    "version": 3
   },
   "file_extension": ".py",
   "mimetype": "text/x-python",
   "name": "python",
   "nbconvert_exporter": "python",
   "pygments_lexer": "ipython3",
   "version": "3.8.10"
  }
 },
 "nbformat": 4,
 "nbformat_minor": 5
}
