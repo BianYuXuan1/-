{
 "cells": [
  {
   "cell_type": "code",
   "execution_count": 1,
   "metadata": {},
   "outputs": [],
   "source": [
    "import os\n",
    "import shutil\n",
    "import random\n",
    "import json\n",
    "#需要提前将所有图像放置于img_root的路径下\n",
    "img_root = '/root/autodl-tmp/data_total/'\n",
    "imgs = os.listdir(img_root)\n",
    "random.shuffle(imgs)\n",
    "#将所有的图像随机分为Train,val,test三个数据集并且生成annotation\n",
    "all_len = len(imgs)\n",
    "train_len = all_len*6//10\n",
    "val_len = all_len*8//10\n",
    "train_list = imgs[:train_len]\n",
    "val_list = imgs[train_len:val_len]\n",
    "test_list = imgs[val_len:]\n",
    "all_img_dict = {'train':train_list,'val':val_list, 'test':test_list}\n",
    "with open('/root/2022_bishe/data/heartTU_annotation.json','w') as j:\n",
    "    json.dump(all_img_dict, j)"
   ]
  }
 ],
 "metadata": {
  "kernelspec": {
   "display_name": "Python 3 (ipykernel)",
   "language": "python",
   "name": "python3"
  },
  "language_info": {
   "codemirror_mode": {
    "name": "ipython",
    "version": 3
   },
   "file_extension": ".py",
   "mimetype": "text/x-python",
   "name": "python",
   "nbconvert_exporter": "python",
   "pygments_lexer": "ipython3",
   "version": "3.8.10"
  }
 },
 "nbformat": 4,
 "nbformat_minor": 4
}
